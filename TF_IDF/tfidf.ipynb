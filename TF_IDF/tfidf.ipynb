{
 "cells": [
  {
   "cell_type": "code",
   "execution_count": 70,
   "id": "11c5add0",
   "metadata": {},
   "outputs": [
    {
     "name": "stderr",
     "output_type": "stream",
     "text": [
      "[nltk_data] Downloading package punkt to\n",
      "[nltk_data]     C:\\Users\\johnt\\AppData\\Roaming\\nltk_data...\n",
      "[nltk_data]   Package punkt is already up-to-date!\n"
     ]
    },
    {
     "data": {
      "text/plain": [
       "True"
      ]
     },
     "execution_count": 70,
     "metadata": {},
     "output_type": "execute_result"
    }
   ],
   "source": [
    "from docx import Document\n",
    "import re\n",
    "from sklearn.feature_extraction.text import TfidfVectorizer\n",
    "import nltk\n",
    "import pandas as pd\n",
    "from nltk.corpus import stopwords\n",
    "from nltk.tokenize import word_tokenize\n",
    "from collections import Counter\n",
    "nltk.download('punkt')"
   ]
  },
  {
   "cell_type": "code",
   "execution_count": 2,
   "id": "7e372dcb",
   "metadata": {},
   "outputs": [],
   "source": [
    "def read_doc(file_path, patent_start=r'^\\s*US[0-9A-Z]*$'):\n",
    "    doc = Document(file_path)\n",
    "    labels = []\n",
    "    patents = []\n",
    "    current_patent_text = []\n",
    "    \n",
    "    for i, paragraph in enumerate(doc.paragraphs):\n",
    "        if re.search(patent_start, paragraph.text):\n",
    "            labels.append(paragraph.text)\n",
    "            if current_patent_text:\n",
    "                patents.append('\\n'.join(current_patent_text))\n",
    "            current_patent_text = []\n",
    "        else:\n",
    "            # If not a patent start, add the paragraph text to the current patent text\n",
    "            current_patent_text.append(paragraph.text)\n",
    "            \n",
    "    # Add the last patent text\n",
    "    if current_patent_text:\n",
    "        patents.append('\\n'.join(current_patent_text))\n",
    "\n",
    "    return patents, labels"
   ]
  },
  {
   "cell_type": "code",
   "execution_count": 43,
   "id": "ecca7365",
   "metadata": {},
   "outputs": [],
   "source": [
    "def preprocess_text(text):\n",
    "    stop_words = stopwords.words('english')\n",
    "    stop_words.append('may')\n",
    "    stop_words = set(stop_words)\n",
    "    tokens = word_tokenize(text)\n",
    "    tokens = [word.lower() for word in tokens if word.isalpha()]\n",
    "    tokens = [word for word in tokens if word not in stop_words]\n",
    "    return ' '.join(tokens)"
   ]
  },
  {
   "cell_type": "code",
   "execution_count": 44,
   "id": "f073cfd1",
   "metadata": {},
   "outputs": [],
   "source": [
    "def calculate_tfidf(corpus):\n",
    "    vectorizer = TfidfVectorizer()\n",
    "    tfidf_matrix = vectorizer.fit_transform(corpus)\n",
    "    feature_names = vectorizer.get_feature_names_out()\n",
    "    return tfidf_matrix, feature_names"
   ]
  },
  {
   "cell_type": "code",
   "execution_count": 45,
   "id": "fc474ad2",
   "metadata": {},
   "outputs": [],
   "source": [
    "def extract_keywords(tfidf_matrix, feature_names, top_n=10):\n",
    "    document_tfidf = tfidf_matrix[0].toarray()[0]\n",
    "    keywords = [feature_names[i] for i in document_tfidf.argsort()[-top_n:][::-1]]\n",
    "    return keywords"
   ]
  },
  {
   "cell_type": "code",
   "execution_count": 46,
   "id": "2f0c751b",
   "metadata": {},
   "outputs": [],
   "source": [
    "patents, labels = read_doc(r'C:\\Users\\johnt\\Downloads\\20240106021625210-AMD (2).docx')"
   ]
  },
  {
   "cell_type": "code",
   "execution_count": 47,
   "id": "a70319fd",
   "metadata": {},
   "outputs": [],
   "source": [
    "for i in range(len(patents)):\n",
    "    patents[i] = preprocess_text(patents[i])"
   ]
  },
  {
   "cell_type": "code",
   "execution_count": 48,
   "id": "4221333a",
   "metadata": {},
   "outputs": [],
   "source": [
    "label2pat = dict(zip(labels, patents))"
   ]
  },
  {
   "cell_type": "code",
   "execution_count": 49,
   "id": "92ae4ccf",
   "metadata": {},
   "outputs": [],
   "source": [
    "patent_keywords = {}"
   ]
  },
  {
   "cell_type": "code",
   "execution_count": 50,
   "id": "67b9400b",
   "metadata": {},
   "outputs": [],
   "source": [
    "for label, patent in label2pat.items():\n",
    "    X, feature_names = calculate_tfidf([patent])\n",
    "    keywords = extract_keywords(X, feature_names)\n",
    "    \n",
    "    patent_keywords[label] = keywords"
   ]
  },
  {
   "cell_type": "code",
   "execution_count": 51,
   "id": "dd53569b",
   "metadata": {},
   "outputs": [],
   "source": [
    "word_set = set(word for words_list in patent_keywords.values() for word in words_list)"
   ]
  },
  {
   "cell_type": "code",
   "execution_count": 52,
   "id": "79299693",
   "metadata": {},
   "outputs": [],
   "source": [
    "word_count = Counter(word for words_list in patent_keywords.values() for word in words_list)"
   ]
  },
  {
   "cell_type": "code",
   "execution_count": 104,
   "id": "9acc49f4",
   "metadata": {},
   "outputs": [],
   "source": [
    "keyword2patent = {}\n",
    "for word in word_set:\n",
    "    patent_list = []\n",
    "    \n",
    "    for patent, kw_list in patent_keywords.items():\n",
    "        if word in kw_list:\n",
    "            patent_list.append(patent)\n",
    "    \n",
    "    patent_str = ', '.join(patent_list)\n",
    "    keyword2patent[word] = patent_str"
   ]
  },
  {
   "cell_type": "code",
   "execution_count": 105,
   "id": "4faf4521",
   "metadata": {},
   "outputs": [],
   "source": [
    "patent_df = pd.DataFrame(patent_keywords)\n",
    "keyword2patent = list(keyword2patent.items())\n",
    "keyword_df = pd.DataFrame(keyword2patent, columns=[\"Keyword\", \"Patents\"])"
   ]
  },
  {
   "cell_type": "code",
   "execution_count": 106,
   "id": "5df50b7a",
   "metadata": {},
   "outputs": [],
   "source": [
    "patent_df = patent_df.T"
   ]
  },
  {
   "cell_type": "code",
   "execution_count": 109,
   "id": "22f1468b",
   "metadata": {},
   "outputs": [],
   "source": [
    "keyword_df.set_index('Keyword', inplace=True)"
   ]
  },
  {
   "cell_type": "code",
   "execution_count": 110,
   "id": "6ada00bf",
   "metadata": {},
   "outputs": [
    {
     "data": {
      "text/html": [
       "<div>\n",
       "<style scoped>\n",
       "    .dataframe tbody tr th:only-of-type {\n",
       "        vertical-align: middle;\n",
       "    }\n",
       "\n",
       "    .dataframe tbody tr th {\n",
       "        vertical-align: top;\n",
       "    }\n",
       "\n",
       "    .dataframe thead th {\n",
       "        text-align: right;\n",
       "    }\n",
       "</style>\n",
       "<table border=\"1\" class=\"dataframe\">\n",
       "  <thead>\n",
       "    <tr style=\"text-align: right;\">\n",
       "      <th></th>\n",
       "      <th>0</th>\n",
       "      <th>1</th>\n",
       "      <th>2</th>\n",
       "      <th>3</th>\n",
       "      <th>4</th>\n",
       "      <th>5</th>\n",
       "      <th>6</th>\n",
       "      <th>7</th>\n",
       "      <th>8</th>\n",
       "      <th>9</th>\n",
       "    </tr>\n",
       "  </thead>\n",
       "  <tbody>\n",
       "    <tr>\n",
       "      <th>US8053849B2</th>\n",
       "      <td>layer</td>\n",
       "      <td>gate</td>\n",
       "      <td>metal</td>\n",
       "      <td>oxide</td>\n",
       "      <td>dielectric</td>\n",
       "      <td>carbon</td>\n",
       "      <td>invention</td>\n",
       "      <td>amorphous</td>\n",
       "      <td>present</td>\n",
       "      <td>electrode</td>\n",
       "    </tr>\n",
       "    <tr>\n",
       "      <th>US8753943B2</th>\n",
       "      <td>gate</td>\n",
       "      <td>layer</td>\n",
       "      <td>metal</td>\n",
       "      <td>dielectric</td>\n",
       "      <td>oxide</td>\n",
       "      <td>invention</td>\n",
       "      <td>present</td>\n",
       "      <td>electrode</td>\n",
       "      <td>carbon</td>\n",
       "      <td>amorphous</td>\n",
       "    </tr>\n",
       "    <tr>\n",
       "      <th>US8445975B2</th>\n",
       "      <td>gate</td>\n",
       "      <td>layer</td>\n",
       "      <td>metal</td>\n",
       "      <td>dielectric</td>\n",
       "      <td>oxide</td>\n",
       "      <td>present</td>\n",
       "      <td>invention</td>\n",
       "      <td>electrode</td>\n",
       "      <td>carbon</td>\n",
       "      <td>silicon</td>\n",
       "    </tr>\n",
       "    <tr>\n",
       "      <th>US8489898B2</th>\n",
       "      <td>samu</td>\n",
       "      <td>code</td>\n",
       "      <td>data</td>\n",
       "      <td>secure</td>\n",
       "      <td>kernel</td>\n",
       "      <td>processor</td>\n",
       "      <td>application</td>\n",
       "      <td>memory</td>\n",
       "      <td>boot</td>\n",
       "      <td>key</td>\n",
       "    </tr>\n",
       "    <tr>\n",
       "      <th>US8904190B2</th>\n",
       "      <td>samu</td>\n",
       "      <td>code</td>\n",
       "      <td>secure</td>\n",
       "      <td>processor</td>\n",
       "      <td>kernel</td>\n",
       "      <td>data</td>\n",
       "      <td>memory</td>\n",
       "      <td>boot</td>\n",
       "      <td>sensitive</td>\n",
       "      <td>aes</td>\n",
       "    </tr>\n",
       "    <tr>\n",
       "      <th>...</th>\n",
       "      <td>...</td>\n",
       "      <td>...</td>\n",
       "      <td>...</td>\n",
       "      <td>...</td>\n",
       "      <td>...</td>\n",
       "      <td>...</td>\n",
       "      <td>...</td>\n",
       "      <td>...</td>\n",
       "      <td>...</td>\n",
       "      <td>...</td>\n",
       "    </tr>\n",
       "    <tr>\n",
       "      <th>US10354365B2</th>\n",
       "      <td>image</td>\n",
       "      <td>sampling</td>\n",
       "      <td>first</td>\n",
       "      <td>one</td>\n",
       "      <td>pattern</td>\n",
       "      <td>embodiment</td>\n",
       "      <td>second</td>\n",
       "      <td>pixel</td>\n",
       "      <td>processor</td>\n",
       "      <td>lines</td>\n",
       "    </tr>\n",
       "    <tr>\n",
       "      <th>US10956044B2</th>\n",
       "      <td>memory</td>\n",
       "      <td>timing</td>\n",
       "      <td>data</td>\n",
       "      <td>parameters</td>\n",
       "      <td>logic</td>\n",
       "      <td>one</td>\n",
       "      <td>region</td>\n",
       "      <td>controller</td>\n",
       "      <td>access</td>\n",
       "      <td>profiling</td>\n",
       "    </tr>\n",
       "    <tr>\n",
       "      <th>US11474703B2</th>\n",
       "      <td>memory</td>\n",
       "      <td>timing</td>\n",
       "      <td>data</td>\n",
       "      <td>logic</td>\n",
       "      <td>parameters</td>\n",
       "      <td>one</td>\n",
       "      <td>controller</td>\n",
       "      <td>access</td>\n",
       "      <td>region</td>\n",
       "      <td>profiling</td>\n",
       "    </tr>\n",
       "    <tr>\n",
       "      <th>US20230142598A1</th>\n",
       "      <td>memory</td>\n",
       "      <td>timing</td>\n",
       "      <td>logic</td>\n",
       "      <td>parameters</td>\n",
       "      <td>data</td>\n",
       "      <td>controller</td>\n",
       "      <td>one</td>\n",
       "      <td>profiling</td>\n",
       "      <td>system</td>\n",
       "      <td>die</td>\n",
       "    </tr>\n",
       "    <tr>\n",
       "      <th>US8726139B2</th>\n",
       "      <td>data</td>\n",
       "      <td>bits</td>\n",
       "      <td>indicator</td>\n",
       "      <td>signal</td>\n",
       "      <td>dq</td>\n",
       "      <td>plurality</td>\n",
       "      <td>state</td>\n",
       "      <td>bus</td>\n",
       "      <td>byte</td>\n",
       "      <td>high</td>\n",
       "    </tr>\n",
       "  </tbody>\n",
       "</table>\n",
       "<p>100 rows × 10 columns</p>\n",
       "</div>"
      ],
      "text/plain": [
       "                       0         1          2           3           4   \n",
       " US8053849B2       layer      gate      metal       oxide  dielectric  \\\n",
       " US8753943B2        gate     layer      metal  dielectric       oxide   \n",
       " US8445975B2        gate     layer      metal  dielectric       oxide   \n",
       " US8489898B2        samu      code       data      secure      kernel   \n",
       " US8904190B2        samu      code     secure   processor      kernel   \n",
       "...                  ...       ...        ...         ...         ...   \n",
       " US10354365B2      image  sampling      first         one     pattern   \n",
       " US10956044B2     memory    timing       data  parameters       logic   \n",
       " US11474703B2     memory    timing       data       logic  parameters   \n",
       " US20230142598A1  memory    timing      logic  parameters        data   \n",
       " US8726139B2        data      bits  indicator      signal          dq   \n",
       "\n",
       "                           5            6           7          8          9  \n",
       " US8053849B2          carbon    invention   amorphous    present  electrode  \n",
       " US8753943B2       invention      present   electrode     carbon  amorphous  \n",
       " US8445975B2         present    invention   electrode     carbon    silicon  \n",
       " US8489898B2       processor  application      memory       boot        key  \n",
       " US8904190B2            data       memory        boot  sensitive        aes  \n",
       "...                      ...          ...         ...        ...        ...  \n",
       " US10354365B2     embodiment       second       pixel  processor      lines  \n",
       " US10956044B2            one       region  controller     access  profiling  \n",
       " US11474703B2            one   controller      access     region  profiling  \n",
       " US20230142598A1  controller          one   profiling     system        die  \n",
       " US8726139B2       plurality        state         bus       byte       high  \n",
       "\n",
       "[100 rows x 10 columns]"
      ]
     },
     "execution_count": 110,
     "metadata": {},
     "output_type": "execute_result"
    }
   ],
   "source": [
    "patent_df"
   ]
  },
  {
   "cell_type": "code",
   "execution_count": 111,
   "id": "58bc7d0f",
   "metadata": {},
   "outputs": [
    {
     "data": {
      "text/html": [
       "<div>\n",
       "<style scoped>\n",
       "    .dataframe tbody tr th:only-of-type {\n",
       "        vertical-align: middle;\n",
       "    }\n",
       "\n",
       "    .dataframe tbody tr th {\n",
       "        vertical-align: top;\n",
       "    }\n",
       "\n",
       "    .dataframe thead th {\n",
       "        text-align: right;\n",
       "    }\n",
       "</style>\n",
       "<table border=\"1\" class=\"dataframe\">\n",
       "  <thead>\n",
       "    <tr style=\"text-align: right;\">\n",
       "      <th></th>\n",
       "      <th>Patents</th>\n",
       "    </tr>\n",
       "    <tr>\n",
       "      <th>Keyword</th>\n",
       "      <th></th>\n",
       "    </tr>\n",
       "  </thead>\n",
       "  <tbody>\n",
       "    <tr>\n",
       "      <th>ofdm</th>\n",
       "      <td>US8306148B2,  US8625715B2</td>\n",
       "    </tr>\n",
       "    <tr>\n",
       "      <th>addresses</th>\n",
       "      <td>US10019365B2</td>\n",
       "    </tr>\n",
       "    <tr>\n",
       "      <th>symbol</th>\n",
       "      <td>US8306148B2,  US8625715B2</td>\n",
       "    </tr>\n",
       "    <tr>\n",
       "      <th>oxide</th>\n",
       "      <td>US8053849B2,  US8753943B2,  US8445975B2</td>\n",
       "    </tr>\n",
       "    <tr>\n",
       "      <th>microcode</th>\n",
       "      <td>US7734873B2</td>\n",
       "    </tr>\n",
       "    <tr>\n",
       "      <th>...</th>\n",
       "      <td>...</td>\n",
       "    </tr>\n",
       "    <tr>\n",
       "      <th>delay</th>\n",
       "      <td>US9679345B2</td>\n",
       "    </tr>\n",
       "    <tr>\n",
       "      <th>network</th>\n",
       "      <td>US9065722B2,  US9825843B2</td>\n",
       "    </tr>\n",
       "    <tr>\n",
       "      <th>alloy</th>\n",
       "      <td>US7893503B2,  US8039335B2,  US7741167B2,  US8...</td>\n",
       "    </tr>\n",
       "    <tr>\n",
       "      <th>bit</th>\n",
       "      <td>US11095910B2</td>\n",
       "    </tr>\n",
       "    <tr>\n",
       "      <th>printed</th>\n",
       "      <td>US9192052B2,  US8867216B2</td>\n",
       "    </tr>\n",
       "  </tbody>\n",
       "</table>\n",
       "<p>301 rows × 1 columns</p>\n",
       "</div>"
      ],
      "text/plain": [
       "                                                     Patents\n",
       "Keyword                                                     \n",
       "ofdm                               US8306148B2,  US8625715B2\n",
       "addresses                                       US10019365B2\n",
       "symbol                             US8306148B2,  US8625715B2\n",
       "oxide                US8053849B2,  US8753943B2,  US8445975B2\n",
       "microcode                                        US7734873B2\n",
       "...                                                      ...\n",
       "delay                                            US9679345B2\n",
       "network                            US9065722B2,  US9825843B2\n",
       "alloy       US7893503B2,  US8039335B2,  US7741167B2,  US8...\n",
       "bit                                             US11095910B2\n",
       "printed                            US9192052B2,  US8867216B2\n",
       "\n",
       "[301 rows x 1 columns]"
      ]
     },
     "execution_count": 111,
     "metadata": {},
     "output_type": "execute_result"
    }
   ],
   "source": [
    "keyword_df"
   ]
  },
  {
   "cell_type": "code",
   "execution_count": 112,
   "id": "72051641",
   "metadata": {},
   "outputs": [],
   "source": [
    "patent_df.to_csv(\".\\patent_to_keyword.csv\")"
   ]
  },
  {
   "cell_type": "code",
   "execution_count": 113,
   "id": "c47f6803",
   "metadata": {},
   "outputs": [],
   "source": [
    "keyword_df.to_csv(\".\\keyword_to_patent.csv\")"
   ]
  },
  {
   "cell_type": "code",
   "execution_count": null,
   "id": "62b6f0d7",
   "metadata": {},
   "outputs": [],
   "source": []
  }
 ],
 "metadata": {
  "kernelspec": {
   "display_name": "Python 3 (ipykernel)",
   "language": "python",
   "name": "python3"
  },
  "language_info": {
   "codemirror_mode": {
    "name": "ipython",
    "version": 3
   },
   "file_extension": ".py",
   "mimetype": "text/x-python",
   "name": "python",
   "nbconvert_exporter": "python",
   "pygments_lexer": "ipython3",
   "version": "3.10.11"
  }
 },
 "nbformat": 4,
 "nbformat_minor": 5
}
