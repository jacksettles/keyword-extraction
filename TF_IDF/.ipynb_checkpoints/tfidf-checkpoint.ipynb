{
 "cells": [
  {
   "cell_type": "code",
   "execution_count": 33,
   "id": "11c5add0",
   "metadata": {},
   "outputs": [
    {
     "name": "stderr",
     "output_type": "stream",
     "text": [
      "[nltk_data] Downloading package punkt to\n",
      "[nltk_data]     C:\\Users\\johnt\\AppData\\Roaming\\nltk_data...\n",
      "[nltk_data]   Unzipping tokenizers\\punkt.zip.\n"
     ]
    },
    {
     "data": {
      "text/plain": [
       "True"
      ]
     },
     "execution_count": 33,
     "metadata": {},
     "output_type": "execute_result"
    }
   ],
   "source": [
    "from docx import Document\n",
    "import re\n",
    "from sklearn.feature_extraction.text import TfidfVectorizer\n",
    "import nltk\n",
    "from nltk.corpus import stopwords\n",
    "from nltk.tokenize import word_tokenize\n",
    "nltk.download('punkt')"
   ]
  },
  {
   "cell_type": "code",
   "execution_count": 68,
   "id": "7e372dcb",
   "metadata": {},
   "outputs": [],
   "source": [
    "def read_doc(file_path, patent_start=r'^\\s*US[0-9A-Z]*$'):\n",
    "    doc = Document(file_path)\n",
    "    labels = []\n",
    "    patents = []\n",
    "    current_patent_text = []\n",
    "    \n",
    "    for i, paragraph in enumerate(doc.paragraphs):\n",
    "        if re.search(patent_start, paragraph.text):\n",
    "            labels.append(paragraph.text)\n",
    "            if current_patent_text:\n",
    "                patents.append('\\n'.join(current_patent_text))\n",
    "            current_patent_text = []\n",
    "        else:\n",
    "            # If not a patent start, add the paragraph text to the current patent text\n",
    "            current_patent_text.append(paragraph.text)\n",
    "            \n",
    "    # Add the last patent text\n",
    "    if current_patent_text:\n",
    "        patents.append('\\n'.join(current_patent_text))\n",
    "\n",
    "    return patents, labels"
   ]
  },
  {
   "cell_type": "code",
   "execution_count": 69,
   "id": "ecca7365",
   "metadata": {},
   "outputs": [],
   "source": [
    "def preprocess_text(text):\n",
    "    stop_words = set(stopwords.words('english'))\n",
    "    tokens = word_tokenize(text)\n",
    "    tokens = [word.lower() for word in tokens if word.isalpha()]\n",
    "    tokens = [word for word in tokens if word not in stop_words]\n",
    "    return ' '.join(tokens)"
   ]
  },
  {
   "cell_type": "code",
   "execution_count": 70,
   "id": "f073cfd1",
   "metadata": {},
   "outputs": [],
   "source": [
    "def calculate_tfidf(corpus):\n",
    "    vectorizer = TfidfVectorizer()\n",
    "    tfidf_matrix = vectorizer.fit_transform(corpus)\n",
    "    feature_names = vectorizer.get_feature_names_out()\n",
    "    return tfidf_matrix, feature_names"
   ]
  },
  {
   "cell_type": "code",
   "execution_count": 91,
   "id": "fc474ad2",
   "metadata": {},
   "outputs": [],
   "source": [
    "def extract_keywords(tfidf_matrix, feature_names, top_n=10):\n",
    "    document_tfidf = tfidf_matrix[0].toarray()[0]\n",
    "    keywords = [feature_names[i] for i in document_tfidf.argsort()[-top_n:][::-1]]\n",
    "    return keywords"
   ]
  },
  {
   "cell_type": "code",
   "execution_count": 71,
   "id": "2f0c751b",
   "metadata": {},
   "outputs": [],
   "source": [
    "patents, labels = read_doc(r'C:\\Users\\johnt\\Downloads\\20240106021625210-AMD (2).docx')"
   ]
  },
  {
   "cell_type": "code",
   "execution_count": 72,
   "id": "a70319fd",
   "metadata": {},
   "outputs": [],
   "source": [
    "for i in range(len(patents)):\n",
    "    patents[i] = preprocess_text(patents[i])"
   ]
  },
  {
   "cell_type": "code",
   "execution_count": 74,
   "id": "4221333a",
   "metadata": {},
   "outputs": [],
   "source": [
    "label2pat = dict(zip(labels, patents))"
   ]
  },
  {
   "cell_type": "code",
   "execution_count": 98,
   "id": "92ae4ccf",
   "metadata": {},
   "outputs": [],
   "source": [
    "patent_keywords = {}"
   ]
  },
  {
   "cell_type": "code",
   "execution_count": 100,
   "id": "67b9400b",
   "metadata": {},
   "outputs": [],
   "source": [
    "for label, patent in label2pat.items():\n",
    "    X, feature_names = calculate_tfidf([patent])\n",
    "    keywords = extract_keywords(X, feature_names)\n",
    "    \n",
    "    patent_keywords[label] = keywords"
   ]
  },
  {
   "cell_type": "code",
   "execution_count": 107,
   "id": "dd53569b",
   "metadata": {},
   "outputs": [
    {
     "data": {
      "text/plain": [
       "['image',\n",
       " 'sampling',\n",
       " 'first',\n",
       " 'one',\n",
       " 'pattern',\n",
       " 'embodiment',\n",
       " 'second',\n",
       " 'pixel',\n",
       " 'processor',\n",
       " 'lines']"
      ]
     },
     "execution_count": 107,
     "metadata": {},
     "output_type": "execute_result"
    }
   ],
   "source": [
    "patent_keywords[labels[95]]"
   ]
  },
  {
   "cell_type": "code",
   "execution_count": null,
   "id": "914ff396",
   "metadata": {},
   "outputs": [],
   "source": []
  }
 ],
 "metadata": {
  "kernelspec": {
   "display_name": "Python 3 (ipykernel)",
   "language": "python",
   "name": "python3"
  },
  "language_info": {
   "codemirror_mode": {
    "name": "ipython",
    "version": 3
   },
   "file_extension": ".py",
   "mimetype": "text/x-python",
   "name": "python",
   "nbconvert_exporter": "python",
   "pygments_lexer": "ipython3",
   "version": "3.10.11"
  }
 },
 "nbformat": 4,
 "nbformat_minor": 5
}
