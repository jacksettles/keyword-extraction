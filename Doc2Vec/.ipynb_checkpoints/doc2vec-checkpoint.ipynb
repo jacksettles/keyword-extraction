{
 "cells": [
  {
   "cell_type": "code",
   "execution_count": 8,
   "id": "276b771d",
   "metadata": {},
   "outputs": [
    {
     "ename": "ModuleNotFoundError",
     "evalue": "No module named 'gensim'",
     "output_type": "error",
     "traceback": [
      "\u001b[1;31m---------------------------------------------------------------------------\u001b[0m",
      "\u001b[1;31mModuleNotFoundError\u001b[0m                       Traceback (most recent call last)",
      "Cell \u001b[1;32mIn[8], line 9\u001b[0m\n\u001b[0;32m      7\u001b[0m \u001b[38;5;28;01mfrom\u001b[39;00m \u001b[38;5;21;01mnltk\u001b[39;00m\u001b[38;5;21;01m.\u001b[39;00m\u001b[38;5;21;01mtokenize\u001b[39;00m \u001b[38;5;28;01mimport\u001b[39;00m word_tokenize\n\u001b[0;32m      8\u001b[0m \u001b[38;5;28;01mfrom\u001b[39;00m \u001b[38;5;21;01mcollections\u001b[39;00m \u001b[38;5;28;01mimport\u001b[39;00m Counter\n\u001b[1;32m----> 9\u001b[0m \u001b[38;5;28;01mfrom\u001b[39;00m \u001b[38;5;21;01mgensim\u001b[39;00m\u001b[38;5;21;01m.\u001b[39;00m\u001b[38;5;21;01mmodels\u001b[39;00m\u001b[38;5;21;01m.\u001b[39;00m\u001b[38;5;21;01mdoc2vec\u001b[39;00m \u001b[38;5;28;01mimport\u001b[39;00m TaggedDocument\n\u001b[0;32m     10\u001b[0m nltk\u001b[38;5;241m.\u001b[39mdownload(\u001b[38;5;124m'\u001b[39m\u001b[38;5;124mpunkt\u001b[39m\u001b[38;5;124m'\u001b[39m)\n",
      "\u001b[1;31mModuleNotFoundError\u001b[0m: No module named 'gensim'"
     ]
    }
   ],
   "source": [
    "from docx import Document\n",
    "import re\n",
    "from sklearn.feature_extraction.text import TfidfVectorizer\n",
    "import nltk\n",
    "import pandas as pd\n",
    "from nltk.corpus import stopwords\n",
    "from nltk.tokenize import word_tokenize\n",
    "from collections import Counter\n",
    "from gensim.models.doc2vec import TaggedDocument\n",
    "nltk.download('punkt')"
   ]
  },
  {
   "cell_type": "code",
   "execution_count": 2,
   "id": "a388325c",
   "metadata": {},
   "outputs": [],
   "source": [
    "def read_doc(file_path, patent_start=r'^\\s*US[0-9A-Z]*$'):\n",
    "    doc = Document(file_path)\n",
    "    labels = []\n",
    "    patents = []\n",
    "    current_patent_text = []\n",
    "    \n",
    "    for i, paragraph in enumerate(doc.paragraphs):\n",
    "        if re.search(patent_start, paragraph.text):\n",
    "            labels.append(paragraph.text)\n",
    "            if current_patent_text:\n",
    "                patents.append('\\n'.join(current_patent_text))\n",
    "            current_patent_text = []\n",
    "        else:\n",
    "            # If not a patent start, add the paragraph text to the current patent text\n",
    "            current_patent_text.append(paragraph.text)\n",
    "            \n",
    "    # Add the last patent text\n",
    "    if current_patent_text:\n",
    "        patents.append('\\n'.join(current_patent_text))\n",
    "\n",
    "    return patents, labels"
   ]
  },
  {
   "cell_type": "code",
   "execution_count": 3,
   "id": "4b5e7de3",
   "metadata": {},
   "outputs": [],
   "source": [
    "def preprocess_text(text):\n",
    "    stop_words = stopwords.words('english')\n",
    "    stop_words.append('may')\n",
    "    stop_words = set(stop_words)\n",
    "    tokens = word_tokenize(text)\n",
    "    tokens = [word.lower() for word in tokens if word.isalpha()]\n",
    "    tokens = [word for word in tokens if word not in stop_words]\n",
    "    return ' '.join(tokens)"
   ]
  },
  {
   "cell_type": "code",
   "execution_count": 4,
   "id": "14eec43c",
   "metadata": {},
   "outputs": [],
   "source": [
    "patents, labels = read_doc(r'C:\\Users\\johnt\\Downloads\\20240106021625210-AMD (2).docx')\n",
    "for i in range(len(patents)):\n",
    "    patents[i] = preprocess_text(patents[i])"
   ]
  },
  {
   "cell_type": "code",
   "execution_count": null,
   "id": "f22c826a",
   "metadata": {},
   "outputs": [],
   "source": [
    "tagged_data = [TaggedDocument(words=doc.split(), tags=[label]) for label, doc in zip(labels, patents)]"
   ]
  }
 ],
 "metadata": {
  "kernelspec": {
   "display_name": "Python 3 (ipykernel)",
   "language": "python",
   "name": "python3"
  },
  "language_info": {
   "codemirror_mode": {
    "name": "ipython",
    "version": 3
   },
   "file_extension": ".py",
   "mimetype": "text/x-python",
   "name": "python",
   "nbconvert_exporter": "python",
   "pygments_lexer": "ipython3",
   "version": "3.10.11"
  }
 },
 "nbformat": 4,
 "nbformat_minor": 5
}
